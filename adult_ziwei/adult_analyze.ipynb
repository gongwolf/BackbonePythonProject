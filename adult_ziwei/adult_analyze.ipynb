{
 "nbformat": 4,
 "nbformat_minor": 2,
 "metadata": {
  "language_info": {
   "name": "python",
   "codemirror_mode": {
    "name": "ipython",
    "version": 3
   },
   "version": "3.7.5"
  },
  "orig_nbformat": 2,
  "file_extension": ".py",
  "mimetype": "text/x-python",
  "name": "python",
  "npconvert_exporter": "python",
  "pygments_lexer": "ipython3",
  "version": 3
 },
 "cells": [
  {
   "cell_type": "markdown",
   "metadata": {},
   "source": [
    "# import packages "
   ]
  },
  {
   "cell_type": "code",
   "execution_count": 1,
   "metadata": {},
   "outputs": [],
   "source": [
    "from sklearn.metrics import accuracy_score\n",
    "import sklearn as sk\n",
    "import numpy as np\n",
    "import pandas as pd\n",
    "from sklearn import tree\n",
    "from sklearn.cluster import DBSCAN\n",
    "from sklearn.linear_model import LogisticRegressionCV\n",
    "from sklearn.model_selection import KFold\n",
    "from sklearn.decomposition import PCA"
   ]
  },
  {
   "cell_type": "markdown",
   "metadata": {},
   "source": [
    "read the files "
   ]
  },
  {
   "cell_type": "code",
   "execution_count": 2,
   "metadata": {},
   "outputs": [
    {
     "name": "stdout",
     "output_type": "stream",
     "text": "<class 'pandas.core.frame.DataFrame'>\nRangeIndex: 32561 entries, 0 to 32560\nData columns (total 15 columns):\nage               32561 non-null int64\nworkclass         32561 non-null object\nfnlwgt            32561 non-null int64\neducation         32561 non-null object\neducation-num     32561 non-null int64\nmarital-status    32561 non-null object\noccupation        32561 non-null object\nrelationship      32561 non-null object\nrace              32561 non-null object\nsex               32561 non-null object\ncapital-gain      32561 non-null int64\ncapital-loss      32561 non-null int64\nhours-per-week    32561 non-null int64\nnative-country    32561 non-null object\nincome            32561 non-null object\ndtypes: int64(6), object(9)\nmemory usage: 3.7+ MB\nNone\n   age         workclass  fnlwgt  education  education-num  \\\n0   39         State-gov   77516  Bachelors             13   \n1   50  Self-emp-not-inc   83311  Bachelors             13   \n2   38           Private  215646    HS-grad              9   \n3   53           Private  234721       11th              7   \n4   28           Private  338409  Bachelors             13   \n\n       marital-status         occupation   relationship   race     sex  \\\n0       Never-married       Adm-clerical  Not-in-family  White    Male   \n1  Married-civ-spouse    Exec-managerial        Husband  White    Male   \n2            Divorced  Handlers-cleaners  Not-in-family  White    Male   \n3  Married-civ-spouse  Handlers-cleaners        Husband  Black    Male   \n4  Married-civ-spouse     Prof-specialty           Wife  Black  Female   \n\n   capital-gain  capital-loss  hours-per-week native-country income  \n0          2174             0              40  United-States  <=50K  \n1             0             0              13  United-States  <=50K  \n2             0             0              40  United-States  <=50K  \n3             0             0              40  United-States  <=50K  \n4             0             0              40           Cuba  <=50K  \n"
    }
   ],
   "source": [
    "names = [\n",
    "    'age',\n",
    "    'workclass',\n",
    "    'fnlwgt',\n",
    "    'education',\n",
    "    'education-num',\n",
    "    'marital-status',\n",
    "    'occupation',\n",
    "    'relationship',\n",
    "    'race',\n",
    "    'sex',\n",
    "    'capital-gain',\n",
    "    'capital-loss',\n",
    "    'hours-per-week',\n",
    "    'native-country',\n",
    "    'income'\n",
    "]\n",
    "# read the training data and trim the space in each field\n",
    "train_data = pd.read_csv('adult.data', sep=\"\\s*,\\s*\",\n",
    "                         names=names, engine='python')\n",
    "# read the testing data and trim the space in each field\n",
    "test_data = pd.read_csv('adult.test', sep=\"\\s*,\\s*\",\n",
    "                        names=names, engine='python')\n",
    "\n",
    "# in the test dataset, the colnum of the 'income' has a surplus period.\n",
    "test_data['income'].replace(\n",
    "    regex=True, inplace=True, to_replace=r'\\.', value=r'')\n",
    "print(train_data.info())\n",
    "print(train_data.head())"
   ]
  },
  {
   "cell_type": "markdown",
   "execution_count": 14,
   "metadata": {},
   "outputs": [
    {
     "ename": "SyntaxError",
     "evalue": "invalid syntax (<ipython-input-14-114bd4543526>, line 1)",
     "output_type": "error",
     "traceback": [
      "\u001b[0;36m  File \u001b[0;32m\"<ipython-input-14-114bd4543526>\"\u001b[0;36m, line \u001b[0;32m1\u001b[0m\n\u001b[0;31m    read the files\u001b[0m\n\u001b[0m           ^\u001b[0m\n\u001b[0;31mSyntaxError\u001b[0m\u001b[0;31m:\u001b[0m invalid syntax\n"
     ]
    }
   ],
   "source": [
    "# shows the missing values in each colnums "
   ]
  },
  {
   "cell_type": "code",
   "execution_count": 3,
   "metadata": {},
   "outputs": [
    {
     "name": "stdout",
     "output_type": "stream",
     "text": "Missing values in training data\nworkclass: 1836 out of 32561 records\noccupation: 1843 out of 32561 records\nnative-country: 583 out of 32561 records\nMissing values in test data\nworkclass: 963 out of 16281 records\noccupation: 966 out of 16281 records\nnative-country: 274 out of 16281 records\n"
    }
   ],
   "source": [
    "print('Missing values in training data')\n",
    "for i, j in zip(train_data.columns, (train_data.values.astype(str) == '?').sum(axis=0)):\n",
    "    if j > 0:\n",
    "        print(str(i) + ': ' + str(j) + ' out of ' +\n",
    "              str(len(train_data)) + ' records')\n",
    "              \n",
    "print('Missing values in test data')\n",
    "for i, j in zip(test_data.columns, (test_data.values.astype(str) == '?').sum(axis=0)):\n",
    "    if j > 0:\n",
    "        print(str(i) + ': ' + str(j) + ' out of ' +\n",
    "              str(len(test_data))+' records')"
   ]
  },
  {
   "cell_type": "markdown",
   "execution_count": null,
   "metadata": {},
   "outputs": [],
   "source": [
    "# removing the rows have the missing values from the traning dataset"
   ]
  },
  {
   "cell_type": "code",
   "execution_count": 4,
   "metadata": {},
   "outputs": [
    {
     "name": "stdout",
     "output_type": "stream",
     "text": "workclass: before delete: 32561     after delete:30725\noccupation: before delete: 30725     after delete:30718\nnative-country: before delete: 30718     after delete:30162\nsize of training dataset: before removing: 32561    after delete:30162\n/home/gqxwolf/.local/lib/python3.7/site-packages/pandas/core/ops/__init__.py:1115: FutureWarning: elementwise comparison failed; returning scalar instead, but in the future will perform elementwise comparison\n  result = method(y)\n"
    }
   ],
   "source": [
    "clean_train_data = train_data.copy()\n",
    "befor_train = len(clean_train_data)\n",
    "for colnum in names:\n",
    "    be = len(clean_train_data)\n",
    "    clean_train_data = clean_train_data[(clean_train_data[colnum] != '?')]\n",
    "    af = len(clean_train_data)\n",
    "    if be != af:\n",
    "        print(\"{}: before delete: {}     after delete:{}\".format(colnum, be, af))\n",
    "after_train = len(clean_train_data)\n",
    "print(\"size of training dataset: before removing: {}    after delete:{}\".format(\n",
    "    befor_train, after_train))"
   ]
  },
  {
   "cell_type": "markdown",
   "execution_count": null,
   "metadata": {},
   "outputs": [],
   "source": [
    "# removing the rows have the missing values from the testing dataset"
   ]
  },
  {
   "cell_type": "code",
   "execution_count": 5,
   "metadata": {},
   "outputs": [
    {
     "name": "stdout",
     "output_type": "stream",
     "text": "workclass: before delete: 16281     after delete:15318\noccupation: before delete: 15318     after delete:15315\nnative-country: before delete: 15315     after delete:15060\nsize of test dataset: before removing: 16281     after delete:15060\n"
    }
   ],
   "source": [
    "clean_test_data = test_data.copy()\n",
    "befor_test = len(clean_test_data)\n",
    "for colnum in names:\n",
    "    be = len(clean_test_data)\n",
    "    clean_test_data = clean_test_data[(clean_test_data[colnum] != '?')]\n",
    "    af = len(clean_test_data)\n",
    "    if be != af:\n",
    "        print(\"{}: before delete: {}     after delete:{}\".format(colnum, be, af))\n",
    "after_test = len(clean_test_data)\n",
    "print(\"size of test dataset: before removing: {}     after delete:{}\".format(\n",
    "    befor_test, after_test))"
   ]
  },
  {
   "cell_type": "markdown",
   "execution_count": null,
   "metadata": {},
   "outputs": [],
   "source": [
    "#  convert the categorical value to one-hot vector"
   ]
  },
  {
   "cell_type": "code",
   "execution_count": 6,
   "metadata": {},
   "outputs": [
    {
     "name": "stdout",
     "output_type": "stream",
     "text": "Encoding workclass\nEncoding education\nEncoding marital-status\nEncoding occupation\nEncoding relationship\nEncoding race\nEncoding sex\nEncoding native-country\nEncoding income\n[1, 3, 5, 6, 7, 8, 9, 13]\n/home/gqxwolf/.local/lib/python3.7/site-packages/sklearn/preprocessing/_encoders.py:391: DeprecationWarning: Passing 'n_values' is deprecated in version 0.20 and will be removed in 0.22. n_values='auto' can be replaced with categories='auto'.\n  warnings.warn(msg, DeprecationWarning)\n/home/gqxwolf/.local/lib/python3.7/site-packages/sklearn/preprocessing/_encoders.py:451: DeprecationWarning: The 'categorical_features' keyword is deprecated in version 0.20 and will be removed in 0.22. You can use the ColumnTransformer instead.\n  \"use the ColumnTransformer instead.\", DeprecationWarning)\n"
    }
   ],
   "source": [
    "# clean_train_data_one_hot = pd.get_dummies(clean_train_data, columns=[\"workclass\", \"education\", \"marital-status\", \"occupation\", \"relationship\", \"race\", \"sex\", \"native-country\"])\n",
    "# clean_test_data_one_hot = pd.get_dummies(clean_test_data, columns=[\"workclass\", \"education\", \"marital-status\", \"occupation\", \"relationship\", \"race\", \"sex\", \"native-country\"])\n",
    "\n",
    "from sklearn.preprocessing import LabelEncoder, OneHotEncoder\n",
    "full = pd.concat((clean_train_data, clean_test_data))\n",
    "col_one_hot_idx = []\n",
    "clean_train_data_label = clean_train_data.copy()\n",
    "clean_test_data_label = clean_test_data.copy()\n",
    "\n",
    "for col in full.columns:\n",
    "    if clean_train_data[col].dtype == object and col != \"income\":\n",
    "        # set of labels of the categorical columns\n",
    "        print(\"Encoding {}\".format(col))\n",
    "        new_le = LabelEncoder()\n",
    "        full[col] = new_le.fit_transform(full[col])\n",
    "        clean_train_data_label[col] = new_le.transform(clean_train_data_label[col])\n",
    "        clean_test_data_label[col] = new_le.transform(clean_test_data_label[col])\n",
    "        col_one_hot_idx.append(full.columns.get_loc(col))\n",
    "    elif clean_train_data[col].dtype == object and col == \"income\":\n",
    "        print(\"Encoding {}\".format(col))\n",
    "        new_le = LabelEncoder()\n",
    "        full[col] = new_le.fit_transform(full[col])\n",
    "        clean_train_data_label[col] = new_le.transform(clean_train_data_label[col])\n",
    "        clean_test_data_label[col] = new_le.transform(clean_test_data_label[col])\n",
    "\n",
    "#[1, 3, 5, 6, 7, 8, 9, 13]\n",
    "print(col_one_hot_idx)\n",
    "ohe = OneHotEncoder(categorical_features=col_one_hot_idx, sparse=False, handle_unknown=\"ignore\",n_values=\"auto\")\n",
    "ohe.fit(full)\n",
    "clean_train_data_one_hot = ohe.transform(clean_train_data_label)\n",
    "clean_test_data_one_hot = ohe.transform(clean_test_data_label)"
   ]
  },
  {
   "cell_type": "markdown",
   "execution_count": null,
   "metadata": {},
   "outputs": [],
   "source": [
    "# Normalization"
   ]
  },
  {
   "cell_type": "code",
   "execution_count": 7,
   "metadata": {},
   "outputs": [
    {
     "name": "stderr",
     "output_type": "stream",
     "text": "/home/gqxwolf/.local/lib/python3.7/site-packages/ipykernel_launcher.py:2: RuntimeWarning: invalid value encountered in true_divide\n  \n"
    }
   ],
   "source": [
    "clean_train_data_one_hot = (clean_train_data_one_hot-clean_train_data_one_hot.min(axis=0))/(clean_train_data_one_hot.max(axis=0)-clean_train_data_one_hot.min(axis=0))\n",
    "clean_test_data_one_hot = (clean_test_data_one_hot-clean_test_data_one_hot.min(axis=0))/(clean_test_data_one_hot.max(axis=0)-clean_test_data_one_hot.min(axis=0))\n",
    "clean_train_data_one_hot=np.nan_to_num(clean_train_data_one_hot)\n",
    "clean_test_data_one_hot=np.nan_to_num(clean_test_data_one_hot)"
   ]
  },
  {
   "cell_type": "markdown",
   "execution_count": null,
   "metadata": {},
   "outputs": [],
   "source": [
    "# linear Regression Model (with normalization)\n"
   ]
  },
  {
   "cell_type": "code",
   "execution_count": 8,
   "metadata": {},
   "outputs": [
    {
     "name": "stdout",
     "output_type": "stream",
     "text": "(30162, 104) (30162, 1) (15060, 104) (15060, 1)\nAccuracy: 84.78%\nAccuracy (non-us): 86.56%\nAccuracy (us): 84.62%\nAccuracy (male): 81.01%\nAccuracy (female): 92.57%\nAccuracy (white): 84.09%\nAccuracy (non-white): 89.09%\n"
    }
   ],
   "source": [
    "clean_train_data_X = clean_train_data_one_hot[:, :-1]\n",
    "clean_train_data_Y = clean_train_data_one_hot[:, -1:]\n",
    "\n",
    "clean_test_data_X = clean_test_data_one_hot[:, :-1]\n",
    "clean_test_data_Y = clean_test_data_one_hot[:, -1:]\n",
    "\n",
    "print(clean_train_data_X.shape, clean_train_data_Y.shape,\n",
    "      clean_test_data_X.shape, clean_test_data_Y.shape)\n",
    "\n",
    "## us vs non-us\n",
    "test_data_us_idx=[ i for i in range(len(clean_test_data.to_numpy())) if clean_test_data.iloc[i]['native-country'] == \"United-States\"]\n",
    "test_data_non_us_idx=[ i for i in range(len(clean_test_data.to_numpy())) if clean_test_data.iloc[i]['native-country'] != \"United-States\"]\n",
    "test_data_non_us = clean_test_data_one_hot[test_data_non_us_idx]\n",
    "test_data_us = clean_test_data_one_hot[test_data_us_idx]\n",
    "clean_test_data_X_non_us = test_data_non_us[:, :-1]\n",
    "clean_test_data_Y_non_us = test_data_non_us[:, -1:]\n",
    "clean_test_data_X_us = test_data_us[:, :-1]\n",
    "clean_test_data_Y_us = test_data_us[:, -1:]\n",
    "\n",
    "# ## male vs famale\n",
    "test_data_male_idx = [ i for i in range(len(clean_test_data.to_numpy())) if clean_test_data.iloc[i]['sex'] == \"Male\"]\n",
    "test_data_female_idx = [ i for i in range(len(clean_test_data.to_numpy())) if clean_test_data.iloc[i]['sex'] == \"Female\"]\n",
    "test_data_male = clean_test_data_one_hot[test_data_male_idx]\n",
    "test_data_female = clean_test_data_one_hot[test_data_female_idx]\n",
    "clean_test_data_X_male = test_data_male[:, :-1]\n",
    "clean_test_data_Y_male = test_data_male[:, -1:]\n",
    "clean_test_data_X_female = test_data_female[:, :-1]\n",
    "clean_test_data_Y_female = test_data_female[:, -1:]\n",
    "\n",
    "# ## white vs non-white\n",
    "test_data_white_idx = [ i for i in range(len(clean_test_data.to_numpy())) if clean_test_data.iloc[i]['race'] == \"White\"]\n",
    "test_data_non_white_idx = [ i for i in range(len(clean_test_data.to_numpy())) if clean_test_data.iloc[i]['race'] != \"White\"]\n",
    "test_data_white = clean_test_data_one_hot[test_data_white_idx]\n",
    "test_data_non_white = clean_test_data_one_hot[test_data_non_white_idx]\n",
    "clean_test_data_X_white = test_data_white[:, :-1]\n",
    "clean_test_data_Y_white = test_data_white[:, -1:]\n",
    "clean_test_data_X_non_white = test_data_non_white[:, :-1]\n",
    "clean_test_data_Y_non_white = test_data_non_white[:, -1:]\n",
    "\n",
    "\n",
    "clf = LogisticRegressionCV(cv=5, max_iter=2000).fit(clean_train_data_X, clean_train_data_Y.ravel())\n",
    "y_pred = clf.predict(clean_test_data_X)\n",
    "y_pred_non_us = clf.predict(clean_test_data_X_non_us)\n",
    "y_pred_us = clf.predict(clean_test_data_X_us)\n",
    "y_pred_male = clf.predict(clean_test_data_X_male)\n",
    "y_pred_female = clf.predict(clean_test_data_X_female)\n",
    "y_pred_white = clf.predict(clean_test_data_X_white)\n",
    "y_pred_non_white = clf.predict(clean_test_data_X_non_white)\n",
    "\n",
    "print('Accuracy: {:0.2%}' .format(accuracy_score(clean_test_data_Y, y_pred)))\n",
    "print('Accuracy (non-us): {:0.2%}' .format(accuracy_score(clean_test_data_Y_non_us, y_pred_non_us)))\n",
    "print('Accuracy (us): {:0.2%}' .format(accuracy_score(clean_test_data_Y_us, y_pred_us)))\n",
    "print('Accuracy (male): {:0.2%}' .format(accuracy_score(clean_test_data_Y_male, y_pred_male)))\n",
    "print('Accuracy (female): {:0.2%}' .format(accuracy_score(clean_test_data_Y_female, y_pred_female)))\n",
    "print('Accuracy (white): {:0.2%}' .format(accuracy_score(clean_test_data_Y_white, y_pred_white)))\n",
    "print('Accuracy (non-white): {:0.2%}' .format(accuracy_score(clean_test_data_Y_non_white, y_pred_non_white)))"
   ]
  },
  {
   "cell_type": "markdown",
   "execution_count": null,
   "metadata": {},
   "outputs": [],
   "source": [
    "# PCA first, Then linear regrisson "
   ]
  },
  {
   "cell_type": "code",
   "execution_count": 9,
   "metadata": {},
   "outputs": [
    {
     "name": "stdout",
     "output_type": "stream",
     "text": "(30162, 104) (30162, 1) (15060, 104) (15060, 1)\n(1272, 31) (1272, 1) (13788, 31) (13788, 1)\n(10147, 31) (10147, 1) (4913, 31) (4913, 1)\n(12970, 31) (12970, 1) (2090, 31) (2090, 1)\nAccuracy: 82.75%\nAccuracy (non-us): 84.91%\nAccuracy (us): 82.55%\nAccuracy (male): 78.69%\nAccuracy (female): 91.13%\nAccuracy (white): 81.96%\nAccuracy (non-white): 87.66%\n"
    }
   ],
   "source": [
    "# len(clean_train_data_one_hot)*0.1\n",
    "pca = PCA(n_components=int(len(clean_train_data_X[0])*0.3))\n",
    "pca.fit(clean_train_data_X)  \n",
    "\n",
    "clean_train_data_one_hot_pca = pca.transform(clean_train_data_X)\n",
    "clean_test_data_one_hot_pca = pca.transform(clean_test_data_X)\n",
    "\n",
    "clean_train_data_X_pca = clean_train_data_one_hot_pca\n",
    "clean_test_data_X_pca = clean_test_data_one_hot_pca\n",
    "print(clean_train_data_X.shape, clean_train_data_Y.shape, clean_test_data_X.shape, clean_test_data_Y.shape)\n",
    "\n",
    "## us vs non-us\n",
    "clean_test_data_X_non_us = clean_test_data_X_pca[test_data_non_us_idx]\n",
    "clean_test_data_X_us = clean_test_data_X_pca[test_data_us_idx]\n",
    "print(clean_test_data_X_non_us.shape, clean_test_data_Y_non_us.shape, clean_test_data_X_us.shape, clean_test_data_Y_us.shape)\n",
    "\n",
    "## male vs female\n",
    "clean_test_data_X_male = clean_test_data_X_pca[test_data_male_idx]\n",
    "clean_test_data_X_female = clean_test_data_X_pca[test_data_female_idx]\n",
    "print(clean_test_data_X_male.shape, clean_test_data_Y_male.shape, clean_test_data_X_female.shape, clean_test_data_Y_female.shape)\n",
    "\n",
    "## male vs female\n",
    "clean_test_data_X_white = clean_test_data_X_pca[test_data_white_idx]\n",
    "clean_test_data_X_non_white = clean_test_data_X_pca[test_data_non_white_idx]\n",
    "print(clean_test_data_X_white.shape, clean_test_data_Y_white.shape, clean_test_data_X_non_white.shape, clean_test_data_Y_non_white.shape)\n",
    "\n",
    "\n",
    "clf = LogisticRegressionCV(cv=5).fit(clean_train_data_X_pca, clean_train_data_Y.ravel())\n",
    "\n",
    "y_pred = clf.predict(clean_test_data_X_pca)\n",
    "y_pred_non_us = clf.predict(clean_test_data_X_non_us)\n",
    "y_pred_us = clf.predict(clean_test_data_X_us)\n",
    "y_pred_male = clf.predict(clean_test_data_X_male)\n",
    "y_pred_female = clf.predict(clean_test_data_X_female)\n",
    "y_pred_white = clf.predict(clean_test_data_X_white)\n",
    "y_pred_non_white = clf.predict(clean_test_data_X_non_white)\n",
    "\n",
    "print('Accuracy: {:0.2%}' .format(accuracy_score(clean_test_data_Y, y_pred)))\n",
    "print('Accuracy (non-us): {:0.2%}' .format(accuracy_score(clean_test_data_Y_non_us, y_pred_non_us)))\n",
    "print('Accuracy (us): {:0.2%}' .format(accuracy_score(clean_test_data_Y_us, y_pred_us)))\n",
    "print('Accuracy (male): {:0.2%}' .format(accuracy_score(clean_test_data_Y_male, y_pred_male)))\n",
    "print('Accuracy (female): {:0.2%}' .format(accuracy_score(clean_test_data_Y_female, y_pred_female)))\n",
    "print('Accuracy (white): {:0.2%}' .format(accuracy_score(clean_test_data_Y_white, y_pred_white)))\n",
    "print('Accuracy (non-white): {:0.2%}' .format(accuracy_score(clean_test_data_Y_non_white, y_pred_non_white)))"
   ]
  },
  {
   "cell_type": "code",
   "execution_count": null,
   "metadata": {},
   "outputs": [],
   "source": []
  }
 ]
}